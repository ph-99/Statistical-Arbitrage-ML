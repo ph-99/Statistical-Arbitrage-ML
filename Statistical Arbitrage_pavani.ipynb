{
 "cells": [
  {
   "cell_type": "markdown",
   "metadata": {},
   "source": [
    "#### For a family of stocks, generally belonging to the same sector or industry, there exists a correlation between prices of each of the stocks. There, though, exist anomalous times when for a small period of time, the correlation is broken. But the market self corrects in some time and the correlation is re-established.\n",
    "#### During this small window of time when correlation is anomalous, there exists a money-making opportunity for quantitative traders.\n",
    "#### Develop Machine Learning Algorithm to predict statistical arbitrage opportunities in NSE based on the 2016 data. Test this algorithm on 2017 data.\n"
   ]
  },
  {
   "cell_type": "code",
   "execution_count": 1,
   "metadata": {},
   "outputs": [],
   "source": [
    "import pandas as pd\n",
    "import numpy as np\n",
    "\n",
    "from datetime import datetime\n",
    "\n",
    "import matplotlib.pyplot as plt\n",
    "from matplotlib import style\n",
    "style.use('ggplot')"
   ]
  },
  {
   "cell_type": "code",
   "execution_count": 2,
   "metadata": {},
   "outputs": [],
   "source": [
    "from sklearn.preprocessing import MinMaxScaler\n",
    "scaler = MinMaxScaler(feature_range=(0, 1))\n",
    "from sklearn.feature_extraction import DictVectorizer\n",
    "from sklearn.model_selection import train_test_split\n",
    "from sklearn.linear_model import LinearRegression"
   ]
  },
  {
   "cell_type": "code",
   "execution_count": 3,
   "metadata": {},
   "outputs": [],
   "source": [
    "from sklearn.metrics import recall_score, precision_score"
   ]
  },
  {
   "cell_type": "markdown",
   "metadata": {},
   "source": [
    "1)Read Data\n",
    "\n",
    "2)Iterates over the DataFrame columns, returning a tuple with the column name and the content as a Series. The index of the row.\n",
    "\n",
    "3)Converting 20MICRONS dataframe to CSV"
   ]
  },
  {
   "cell_type": "code",
   "execution_count": 4,
   "metadata": {},
   "outputs": [],
   "source": [
    "df = pd.read_csv('nse_data.csv')\n",
    "\n",
    "data = []\n",
    "\n",
    "for index,rows in df.iterrows():\n",
    "    if rows[0] == '20MICRONS':\n",
    "        data.append(list(rows))\n",
    "stocks = pd.DataFrame(data,columns = df.columns)\n",
    "stocks.to_csv('20microns.csv' , sep = ',')"
   ]
  },
  {
   "cell_type": "code",
   "execution_count": 5,
   "metadata": {},
   "outputs": [],
   "source": [
    "#Setting a figure size\n",
    "from matplotlib.pylab import rcParams\n",
    "rcParams['figure.figsize'] = 20,10"
   ]
  },
  {
   "cell_type": "code",
   "execution_count": 6,
   "metadata": {},
   "outputs": [
    {
     "name": "stdout",
     "output_type": "stream",
     "text": [
      "   Unnamed: 0     SYMBOL SERIES   OPEN   HIGH    LOW  CLOSE   LAST  PREVCLOSE  \\\n",
      "0           0  20MICRONS     EQ  37.80  37.80  36.15  36.85  37.40      37.05   \n",
      "1           1  20MICRONS     EQ  52.90  61.70  52.90  59.40  59.65      52.80   \n",
      "2           2  20MICRONS     EQ  36.15  36.30  35.60  36.05  36.00      35.65   \n",
      "3           3  20MICRONS     EQ  44.35  44.80  43.55  43.90  43.60      44.80   \n",
      "4           4  20MICRONS     EQ  36.00  36.75  34.20  34.90  34.90      35.40   \n",
      "\n",
      "   TOTTRDQTY     TOTTRDVAL   TIMESTAMP  TOTALTRADES          ISIN  \n",
      "0      27130  9.946579e+05  2017-06-28          202  INE144J01027  \n",
      "1    2489935  1.481265e+08  2017-11-28        14196  INE144J01027  \n",
      "2      40594  1.461975e+06  2017-02-28          193  INE144J01027  \n",
      "3      90170  3.984352e+06  2017-04-28          597  INE144J01027  \n",
      "4      77310  2.709788e+06  2017-03-20          413  INE144J01027  \n"
     ]
    }
   ],
   "source": [
    "stocks = pd.read_csv('20microns.csv')\n",
    "print(stocks.head())"
   ]
  },
  {
   "cell_type": "code",
   "execution_count": 7,
   "metadata": {},
   "outputs": [
    {
     "name": "stdout",
     "output_type": "stream",
     "text": [
      "<class 'pandas.core.frame.DataFrame'>\n",
      "RangeIndex: 495 entries, 0 to 494\n",
      "Data columns (total 14 columns):\n",
      "Unnamed: 0     495 non-null int64\n",
      "SYMBOL         495 non-null object\n",
      "SERIES         495 non-null object\n",
      "OPEN           495 non-null float64\n",
      "HIGH           495 non-null float64\n",
      "LOW            495 non-null float64\n",
      "CLOSE          495 non-null float64\n",
      "LAST           495 non-null float64\n",
      "PREVCLOSE      495 non-null float64\n",
      "TOTTRDQTY      495 non-null int64\n",
      "TOTTRDVAL      495 non-null float64\n",
      "TIMESTAMP      495 non-null object\n",
      "TOTALTRADES    495 non-null int64\n",
      "ISIN           495 non-null object\n",
      "dtypes: float64(7), int64(3), object(4)\n",
      "memory usage: 54.3+ KB\n"
     ]
    }
   ],
   "source": [
    "stocks.info()"
   ]
  },
  {
   "cell_type": "code",
   "execution_count": 8,
   "metadata": {},
   "outputs": [
    {
     "data": {
      "text/html": [
       "<div>\n",
       "<style scoped>\n",
       "    .dataframe tbody tr th:only-of-type {\n",
       "        vertical-align: middle;\n",
       "    }\n",
       "\n",
       "    .dataframe tbody tr th {\n",
       "        vertical-align: top;\n",
       "    }\n",
       "\n",
       "    .dataframe thead th {\n",
       "        text-align: right;\n",
       "    }\n",
       "</style>\n",
       "<table border=\"1\" class=\"dataframe\">\n",
       "  <thead>\n",
       "    <tr style=\"text-align: right;\">\n",
       "      <th></th>\n",
       "      <th>Unnamed: 0</th>\n",
       "      <th>OPEN</th>\n",
       "      <th>HIGH</th>\n",
       "      <th>LOW</th>\n",
       "      <th>CLOSE</th>\n",
       "      <th>LAST</th>\n",
       "      <th>PREVCLOSE</th>\n",
       "      <th>TOTTRDQTY</th>\n",
       "      <th>TOTTRDVAL</th>\n",
       "      <th>TOTALTRADES</th>\n",
       "    </tr>\n",
       "  </thead>\n",
       "  <tbody>\n",
       "    <tr>\n",
       "      <td>count</td>\n",
       "      <td>495.000000</td>\n",
       "      <td>495.000000</td>\n",
       "      <td>495.000000</td>\n",
       "      <td>495.000000</td>\n",
       "      <td>495.000000</td>\n",
       "      <td>495.000000</td>\n",
       "      <td>495.000000</td>\n",
       "      <td>4.950000e+02</td>\n",
       "      <td>4.950000e+02</td>\n",
       "      <td>495.000000</td>\n",
       "    </tr>\n",
       "    <tr>\n",
       "      <td>mean</td>\n",
       "      <td>247.000000</td>\n",
       "      <td>37.377980</td>\n",
       "      <td>38.332323</td>\n",
       "      <td>36.278889</td>\n",
       "      <td>37.108788</td>\n",
       "      <td>37.115455</td>\n",
       "      <td>37.064747</td>\n",
       "      <td>1.475904e+05</td>\n",
       "      <td>6.485095e+06</td>\n",
       "      <td>817.303030</td>\n",
       "    </tr>\n",
       "    <tr>\n",
       "      <td>std</td>\n",
       "      <td>143.038456</td>\n",
       "      <td>7.214625</td>\n",
       "      <td>7.644051</td>\n",
       "      <td>7.011497</td>\n",
       "      <td>7.232672</td>\n",
       "      <td>7.240222</td>\n",
       "      <td>7.169471</td>\n",
       "      <td>2.837671e+05</td>\n",
       "      <td>1.444206e+07</td>\n",
       "      <td>1531.289082</td>\n",
       "    </tr>\n",
       "    <tr>\n",
       "      <td>min</td>\n",
       "      <td>0.000000</td>\n",
       "      <td>25.800000</td>\n",
       "      <td>26.250000</td>\n",
       "      <td>25.000000</td>\n",
       "      <td>25.450000</td>\n",
       "      <td>25.950000</td>\n",
       "      <td>25.450000</td>\n",
       "      <td>2.890000e+03</td>\n",
       "      <td>8.214380e+04</td>\n",
       "      <td>45.000000</td>\n",
       "    </tr>\n",
       "    <tr>\n",
       "      <td>25%</td>\n",
       "      <td>123.500000</td>\n",
       "      <td>32.400000</td>\n",
       "      <td>33.325000</td>\n",
       "      <td>31.425000</td>\n",
       "      <td>32.275000</td>\n",
       "      <td>32.300000</td>\n",
       "      <td>32.275000</td>\n",
       "      <td>2.851150e+04</td>\n",
       "      <td>9.293965e+05</td>\n",
       "      <td>188.500000</td>\n",
       "    </tr>\n",
       "    <tr>\n",
       "      <td>50%</td>\n",
       "      <td>247.000000</td>\n",
       "      <td>36.900000</td>\n",
       "      <td>37.800000</td>\n",
       "      <td>36.100000</td>\n",
       "      <td>36.700000</td>\n",
       "      <td>36.700000</td>\n",
       "      <td>36.650000</td>\n",
       "      <td>5.933200e+04</td>\n",
       "      <td>2.228396e+06</td>\n",
       "      <td>330.000000</td>\n",
       "    </tr>\n",
       "    <tr>\n",
       "      <td>75%</td>\n",
       "      <td>370.500000</td>\n",
       "      <td>40.325000</td>\n",
       "      <td>41.475000</td>\n",
       "      <td>39.200000</td>\n",
       "      <td>40.000000</td>\n",
       "      <td>40.050000</td>\n",
       "      <td>40.000000</td>\n",
       "      <td>1.512600e+05</td>\n",
       "      <td>5.958385e+06</td>\n",
       "      <td>775.000000</td>\n",
       "    </tr>\n",
       "    <tr>\n",
       "      <td>max</td>\n",
       "      <td>494.000000</td>\n",
       "      <td>63.000000</td>\n",
       "      <td>63.800000</td>\n",
       "      <td>59.250000</td>\n",
       "      <td>62.700000</td>\n",
       "      <td>62.600000</td>\n",
       "      <td>62.700000</td>\n",
       "      <td>2.699921e+06</td>\n",
       "      <td>1.488829e+08</td>\n",
       "      <td>17244.000000</td>\n",
       "    </tr>\n",
       "  </tbody>\n",
       "</table>\n",
       "</div>"
      ],
      "text/plain": [
       "       Unnamed: 0        OPEN        HIGH         LOW       CLOSE        LAST  \\\n",
       "count  495.000000  495.000000  495.000000  495.000000  495.000000  495.000000   \n",
       "mean   247.000000   37.377980   38.332323   36.278889   37.108788   37.115455   \n",
       "std    143.038456    7.214625    7.644051    7.011497    7.232672    7.240222   \n",
       "min      0.000000   25.800000   26.250000   25.000000   25.450000   25.950000   \n",
       "25%    123.500000   32.400000   33.325000   31.425000   32.275000   32.300000   \n",
       "50%    247.000000   36.900000   37.800000   36.100000   36.700000   36.700000   \n",
       "75%    370.500000   40.325000   41.475000   39.200000   40.000000   40.050000   \n",
       "max    494.000000   63.000000   63.800000   59.250000   62.700000   62.600000   \n",
       "\n",
       "        PREVCLOSE     TOTTRDQTY     TOTTRDVAL   TOTALTRADES  \n",
       "count  495.000000  4.950000e+02  4.950000e+02    495.000000  \n",
       "mean    37.064747  1.475904e+05  6.485095e+06    817.303030  \n",
       "std      7.169471  2.837671e+05  1.444206e+07   1531.289082  \n",
       "min     25.450000  2.890000e+03  8.214380e+04     45.000000  \n",
       "25%     32.275000  2.851150e+04  9.293965e+05    188.500000  \n",
       "50%     36.650000  5.933200e+04  2.228396e+06    330.000000  \n",
       "75%     40.000000  1.512600e+05  5.958385e+06    775.000000  \n",
       "max     62.700000  2.699921e+06  1.488829e+08  17244.000000  "
      ]
     },
     "execution_count": 8,
     "metadata": {},
     "output_type": "execute_result"
    }
   ],
   "source": [
    "stocks.describe()"
   ]
  },
  {
   "cell_type": "markdown",
   "metadata": {},
   "source": [
    "Time Series Analysis to separate test from train data."
   ]
  },
  {
   "cell_type": "code",
   "execution_count": 9,
   "metadata": {},
   "outputs": [],
   "source": [
    "start16 = datetime(2016 , 1 , 1)\n",
    "end16 = datetime(2016 , 12 , 31)\n",
    "stamp16 = pd.date_range(start16 , end16)\n",
    "\n",
    "start17 = datetime(2017 , 1 , 1)\n",
    "end17 = datetime(2017 , 12 , 31)\n",
    "stamp17 = pd.date_range(start17 , end17)"
   ]
  },
  {
   "cell_type": "markdown",
   "metadata": {},
   "source": [
    "HL_PCT = ( [ HIGH — LOW ] / LOW ) * 100\n",
    "\n",
    "Replaced both HIGH and LOW features with HL_PCT.\n",
    "\n",
    "New dataset"
   ]
  },
  {
   "cell_type": "code",
   "execution_count": 10,
   "metadata": {},
   "outputs": [],
   "source": [
    "stocks['Date'] = pd.to_datetime(stocks.TIMESTAMP,format ='%Y-%m-%d')\n",
    "stocks.index = stocks['Date']"
   ]
  },
  {
   "cell_type": "code",
   "execution_count": 11,
   "metadata": {},
   "outputs": [
    {
     "name": "stderr",
     "output_type": "stream",
     "text": [
      "C:\\Users\\Pavani\\Anaconda3\\lib\\site-packages\\ipykernel_launcher.py:3: SettingWithCopyWarning: \n",
      "A value is trying to be set on a copy of a slice from a DataFrame.\n",
      "Try using .loc[row_indexer,col_indexer] = value instead\n",
      "\n",
      "See the caveats in the documentation: http://pandas.pydata.org/pandas-docs/stable/user_guide/indexing.html#returning-a-view-versus-a-copy\n",
      "  This is separate from the ipykernel package so we can avoid doing imports until\n"
     ]
    }
   ],
   "source": [
    "stocks = stocks[['OPEN', 'HIGH', 'LOW', 'CLOSE', 'TOTTRDQTY', 'Date', \n",
    "                 'PREVCLOSE', 'TOTTRDVAL', 'TOTALTRADES']]\n",
    "stocks['HL_PCT'] = (stocks['HIGH'] - stocks['LOW']) / stocks['LOW'] * 100.0\n",
    "\n",
    "stocks.index = stocks['Date']"
   ]
  },
  {
   "cell_type": "markdown",
   "metadata": {},
   "source": [
    "Seperating Train and test data"
   ]
  },
  {
   "cell_type": "code",
   "execution_count": 14,
   "metadata": {},
   "outputs": [],
   "source": [
    "train = []\n",
    "test = []\n",
    "for index , rows in stocks.iterrows():\n",
    "    if index in stamp16:\n",
    "        train.append(list(rows))\n",
    "    if index in stamp17:\n",
    "        test.append(list(rows))\n",
    "        \n",
    "train = pd.DataFrame(train , columns = stocks.columns)\n",
    "test = pd.DataFrame(test , columns= stocks.columns)\n",
    "    "
   ]
  },
  {
   "cell_type": "code",
   "execution_count": 15,
   "metadata": {},
   "outputs": [
    {
     "name": "stdout",
     "output_type": "stream",
     "text": [
      "    OPEN   HIGH    LOW  CLOSE  TOTTRDQTY       Date  PREVCLOSE    TOTTRDVAL  \\\n",
      "0  33.90  35.00  32.25   33.0      48174 2016-04-21      33.75   1593805.60   \n",
      "1  32.30  33.70  31.80   32.7      12513 2016-05-13      32.30    409528.50   \n",
      "2  32.30  32.80  31.55   32.2      28846 2016-05-06      32.00    930147.40   \n",
      "3  27.55  28.50  26.90   27.3      82651 2016-03-29      27.55   2283316.35   \n",
      "4  38.50  40.75  36.80   38.6     565195 2016-08-17      39.20  21912747.75   \n",
      "\n",
      "   TOTALTRADES     HL_PCT  \n",
      "0          253   8.527132  \n",
      "1          149   5.974843  \n",
      "2          104   3.961965  \n",
      "3          263   5.947955  \n",
      "4         2267  10.733696  \n",
      "    OPEN   HIGH    LOW  CLOSE  TOTTRDQTY       Date  PREVCLOSE     TOTTRDVAL  \\\n",
      "0  37.80  37.80  36.15  36.85      27130 2017-06-28      37.05  9.946579e+05   \n",
      "1  52.90  61.70  52.90  59.40    2489935 2017-11-28      52.80  1.481265e+08   \n",
      "2  36.15  36.30  35.60  36.05      40594 2017-02-28      35.65  1.461975e+06   \n",
      "3  44.35  44.80  43.55  43.90      90170 2017-04-28      44.80  3.984352e+06   \n",
      "4  36.00  36.75  34.20  34.90      77310 2017-03-20      35.40  2.709788e+06   \n",
      "\n",
      "   TOTALTRADES     HL_PCT  \n",
      "0          202   4.564315  \n",
      "1        14196  16.635161  \n",
      "2          193   1.966292  \n",
      "3          597   2.870264  \n",
      "4          413   7.456140  \n"
     ]
    }
   ],
   "source": [
    "print(train.head())\n",
    "print(test.head())"
   ]
  },
  {
   "cell_type": "markdown",
   "metadata": {},
   "source": [
    "Extracting data from dictionaries:\n",
    "\n",
    "PRE-PROCESSING TRAIN DATA:\n",
    "\n",
    "convert pandas Dataframe to Numpy array"
   ]
  },
  {
   "cell_type": "code",
   "execution_count": 16,
   "metadata": {},
   "outputs": [],
   "source": [
    "#convert a dataframe into a dictionary of series or list  \n",
    "#like data type depending on orient parameter. \n",
    "X_train = train[['HIGH', 'LOW', 'OPEN', 'TOTTRDQTY', \n",
    "                 'TOTTRDVAL', 'TOTALTRADES']]\n",
    "\n",
    "x_train = X_train.to_dict(orient = 'records')\n",
    "#Transforms lists of feature-value mappings to vectors. \n",
    "vec = DictVectorizer()\n",
    "X = vec.fit_transform(x_train).toarray()\n",
    "Y= np.asarray(train.CLOSE)\n",
    "Y = Y.astype('int')"
   ]
  },
  {
   "cell_type": "markdown",
   "metadata": {},
   "source": [
    "PRE-PROCESSING TEST DATA:"
   ]
  },
  {
   "cell_type": "code",
   "execution_count": 17,
   "metadata": {},
   "outputs": [],
   "source": [
    "X_test = test[['HIGH', 'LOW', 'OPEN', 'TOTTRDQTY',\n",
    "               'TOTTRDVAL', 'TOTALTRADES']]\n",
    "x_test = X_test.to_dict(orient='records')\n",
    "vec = DictVectorizer()\n",
    "x = vec.fit_transform(x_test).toarray()\n",
    "y = np.asarray(test.CLOSE)\n",
    "y = y.astype('int')"
   ]
  },
  {
   "cell_type": "code",
   "execution_count": 18,
   "metadata": {},
   "outputs": [],
   "source": [
    "from sklearn.linear_model import TheilSenRegressor\n",
    "from sklearn.datasets import make_regression"
   ]
  },
  {
   "cell_type": "markdown",
   "metadata": {},
   "source": [
    "CLASSIFIER:"
   ]
  },
  {
   "cell_type": "markdown",
   "metadata": {},
   "source": [
    "Theil–Sen estimator: of a set of two-dimensional points (xi,yi) is the median m of the \n",
    "\n",
    "slopes (yj − yi)/(xj − xi) determined by all pairs of sample points.\n",
    "\n",
    "TheilSen Regressor is one of the best regression classifier for our data.\n",
    "\n",
    "Method for robustly fitting a line to sample points in the plane (simple linear regression) by choosing the median of the slopes of all lines through pairs of points."
   ]
  },
  {
   "cell_type": "code",
   "execution_count": 19,
   "metadata": {},
   "outputs": [
    {
     "name": "stdout",
     "output_type": "stream",
     "text": [
      "Accuracy of this Statistical Arbitrage model is:  0.9635194932583315\n"
     ]
    }
   ],
   "source": [
    "clf = TheilSenRegressor()\n",
    "clf.fit(X,Y)\n",
    "\n",
    "print(\"Accuracy of this Statistical Arbitrage model is: \",clf.score(x,y))\n",
    "\n",
    "predict = clf.predict(x)\n",
    "\n",
    "test['predict'] = predict"
   ]
  },
  {
   "cell_type": "markdown",
   "metadata": {},
   "source": [
    "Accuracy score of our model is 96.4% which is decent for a yearly predictions. "
   ]
  },
  {
   "cell_type": "markdown",
   "metadata": {},
   "source": [
    "The graph plotted between stock values/price and date along with prediction over 2017 dataset :\n"
   ]
  },
  {
   "cell_type": "code",
   "execution_count": 20,
   "metadata": {},
   "outputs": [
    {
     "data": {
      "image/png": "[encoded data removed]",
      "text/plain": [
       "<Figure size 1440x720 with 1 Axes>"
      ]
     },
     "metadata": {
      "needs_background": "light"
     },
     "output_type": "display_data"
    }
   ],
   "source": [
    "#plot\n",
    "\n",
    "train.index = train.Date\n",
    "test.index = test.Date\n",
    "train['CLOSE'].plot()\n",
    "test['CLOSE'].plot()\n",
    "test['predict'].plot()\n",
    "plt.legend(loc='best')\n",
    "plt.xlabel('Date')\n",
    "plt.ylabel('Price')\n",
    "plt.show()"
   ]
  }
 ],
 "metadata": {
  "kernelspec": {
   "display_name": "Python 3",
   "language": "python",
   "name": "python3"
  },
  "language_info": {
   "codemirror_mode": {
    "name": "ipython",
    "version": 3
   },
   "file_extension": ".py",
   "mimetype": "text/x-python",
   "name": "python",
   "nbconvert_exporter": "python",
   "pygments_lexer": "ipython3",
   "version": "3.7.4"
  }
 },
 "nbformat": 4,
 "nbformat_minor": 2
}
